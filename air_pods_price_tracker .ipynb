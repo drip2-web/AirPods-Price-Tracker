{
 "cells": [
  {
   "cell_type": "code",
   "execution_count": 1,
   "id": "d2cf0126",
   "metadata": {},
   "outputs": [],
   "source": [
    "from bs4 import BeautifulSoup\n",
    "import requests\n",
    "import time\n",
    "import datetime\n",
    "\n",
    "import smtplib"
   ]
  },
  {
   "cell_type": "code",
   "execution_count": 19,
   "id": "abf0aefa",
   "metadata": {},
   "outputs": [
    {
     "name": "stdout",
     "output_type": "stream",
     "text": [
      "Apple AirPods (2nd Generation) Wireless Ear Buds, Bluetooth Headphones with Lightning Charging Case Included, Over 24 Hours of Battery Life, Effortless Setup for iPhone\n",
      "623,229 ratings\n",
      "$79.99\n",
      "3.4 out of 5 stars\n"
     ]
    }
   ],
   "source": [
    "URL='https://www.amazon.com/Apple-AirPods-Charging-Latest-Model/dp/B07PXGQC1Q/ref=zg_bs_c_electronics_d_sccl_2/140-2946882-2334952?pd_rd_w=01Ery&content-id=amzn1.sym.7379aab7-0dd8-4729-b0b5-2074f1cb413d&pf_rd_p=7379aab7-0dd8-4729-b0b5-2074f1cb413d&pf_rd_r=RD3FYTPWP6FGNZQ0FXF8&pd_rd_wg=XuPHV&pd_rd_r=c172b76e-a682-4b5f-aafa-2d3014ffb540&pd_rd_i=B07PXGQC1Q&psc=1'\n",
    "\n",
    "headers = {\"User-Agent\": \"Mozilla/5.0 (Macintosh; Intel Mac OS X 10_15_7) AppleWebKit/537.36 (KHTML, like Gecko) Chrome/125.0.0.0 Safari/537.36\", \"Accept-Encoding\":\"gzip, deflate\", \"Accept\":\"text/html,application/xhtml+xml,application/xml;q=0.9,*/*;q=0.8\", \"DNT\":\"1\",\"Connection\":\"close\", \"Upgrade-Insecure-Requests\":\"1\"}\n",
    "\n",
    "page=requests.get(URL,headers=headers)\n",
    "\n",
    "soup1=BeautifulSoup(page.content,\"html.parser\")\n",
    "\n",
    "soup2=BeautifulSoup(soup1.prettify(),\"html.parser\")\n",
    "\n",
    "title=soup2.find(id='productTitle').text.strip()\n",
    "rating=soup2.find(id='acrCustomerReviewText').text.strip()\n",
    "\n",
    "price=soup2.find('span',attrs={'class':\"a-price aok-align-center reinventPricePriceToPayMargin priceToPay\"}).text\n",
    "\n",
    "starts=soup2.find('span',attrs={\"class\":'a-icon-alt'}).text.strip()\n",
    "\n",
    "price=''.join(list(map(lambda x: x.strip(), price.split())))\n",
    "\n",
    "print(title)\n",
    "print(rating)\n",
    "print(price)\n",
    "print(starts)\n",
    "\n",
    "\n"
   ]
  },
  {
   "cell_type": "code",
   "execution_count": 20,
   "id": "c8b56486",
   "metadata": {},
   "outputs": [
    {
     "name": "stdout",
     "output_type": "stream",
     "text": [
      "2024-08-07\n"
     ]
    }
   ],
   "source": [
    "import datetime\n",
    "today=datetime.date.today()\n",
    "print(today)"
   ]
  },
  {
   "cell_type": "code",
   "execution_count": 21,
   "id": "a69db87a",
   "metadata": {},
   "outputs": [],
   "source": [
    "import csv\n",
    "header=['title','rating','price','starts','date']\n",
    "data=[title,rating,price,starts,today]\n",
    "\n",
    "with open('AmazonWebScraperDatasetWaitingForSale.csv','w',newline='',encoding='UTF8') as f:\n",
    "    writer=csv.writer(f)\n",
    "    writer.writerow(header)\n",
    "    writer.writerow(data)"
   ]
  },
  {
   "cell_type": "code",
   "execution_count": 23,
   "id": "0af4ec4d",
   "metadata": {},
   "outputs": [
    {
     "name": "stdout",
     "output_type": "stream",
     "text": [
      "                                               title           rating   price  \\\n",
      "0  Apple AirPods (2nd Generation) Wireless Ear Bu...  623,229 ratings  $79.99   \n",
      "\n",
      "               starts        date  \n",
      "0  3.4 out of 5 stars  2024-08-07  \n"
     ]
    }
   ],
   "source": [
    "import pandas as pd\n",
    "df=pd.read_csv('AmazonWebScraperDatasetWaitingForSale.csv')\n",
    "print(df)"
   ]
  },
  {
   "cell_type": "code",
   "execution_count": 31,
   "id": "0448c6f1",
   "metadata": {},
   "outputs": [],
   "source": [
    "def check_the_price():\n",
    "    URL='https://www.amazon.com/Apple-AirPods-Charging-Latest-Model/dp/B07PXGQC1Q/ref=zg_bs_c_electronics_d_sccl_2/140-2946882-2334952?pd_rd_w=01Ery&content-id=amzn1.sym.7379aab7-0dd8-4729-b0b5-2074f1cb413d&pf_rd_p=7379aab7-0dd8-4729-b0b5-2074f1cb413d&pf_rd_r=RD3FYTPWP6FGNZQ0FXF8&pd_rd_wg=XuPHV&pd_rd_r=c172b76e-a682-4b5f-aafa-2d3014ffb540&pd_rd_i=B07PXGQC1Q&psc=1'\n",
    "\n",
    "    headers = {\"User-Agent\": \"Mozilla/5.0 (Macintosh; Intel Mac OS X 10_15_7) AppleWebKit/537.36 (KHTML, like Gecko) Chrome/125.0.0.0 Safari/537.36\", \"Accept-Encoding\":\"gzip, deflate\", \"Accept\":\"text/html,application/xhtml+xml,application/xml;q=0.9,*/*;q=0.8\", \"DNT\":\"1\",\"Connection\":\"close\", \"Upgrade-Insecure-Requests\":\"1\"}\n",
    "\n",
    "    page=requests.get(URL,headers=headers)\n",
    "\n",
    "    soup1=BeautifulSoup(page.content,\"html.parser\")\n",
    "\n",
    "    soup2=BeautifulSoup(soup1.prettify(),\"html.parser\")\n",
    "\n",
    "    title=soup2.find(id='productTitle').text.strip()\n",
    "    rating=soup2.find(id='acrCustomerReviewText').text.strip()\n",
    "\n",
    "    price=soup2.find('span',attrs={'class':\"a-price aok-align-center reinventPricePriceToPayMargin priceToPay\"}).text\n",
    "\n",
    "    starts=soup2.find('span',attrs={\"class\":'a-icon-alt'}).text.strip()\n",
    "\n",
    "    price=''.join(list(map(lambda x: x.strip(), price.split())))\n",
    "    \n",
    "    import datetime\n",
    "    today=datetime.date.today()\n",
    "    \n",
    "    import csv\n",
    "    header=['title','rating','price','starts','date']\n",
    "    data=[title,rating,price,starts,today]\n",
    "    \n",
    "    with open('AmazonWebScraperDatasetWaitingForSale.csv','a+',newline='',encoding='UTF8') as f:\n",
    "        writer=csv.writer(f)\n",
    "        writer.writerow(header)\n",
    "        writer.writerow(data)\n",
    "        \n",
    "    price_float = float(price.replace('$', ''))\n",
    "    if (price_float<70):\n",
    "        send_email()\n"
   ]
  },
  {
   "cell_type": "code",
   "execution_count": 32,
   "id": "6f72b2de",
   "metadata": {},
   "outputs": [
    {
     "ename": "KeyboardInterrupt",
     "evalue": "",
     "output_type": "error",
     "traceback": [
      "\u001b[0;31m---------------------------------------------------------------------------\u001b[0m",
      "\u001b[0;31mKeyboardInterrupt\u001b[0m                         Traceback (most recent call last)",
      "Cell \u001b[0;32mIn[32], line 3\u001b[0m\n\u001b[1;32m      1\u001b[0m \u001b[38;5;28;01mwhile\u001b[39;00m(\u001b[38;5;28;01mTrue\u001b[39;00m):\n\u001b[1;32m      2\u001b[0m     check_the_price()\n\u001b[0;32m----> 3\u001b[0m     time\u001b[38;5;241m.\u001b[39msleep(\u001b[38;5;241m7200\u001b[39m)\n",
      "\u001b[0;31mKeyboardInterrupt\u001b[0m: "
     ]
    }
   ],
   "source": [
    "while(True):\n",
    "    check_the_price()\n",
    "    time.sleep(7200)"
   ]
  },
  {
   "cell_type": "code",
   "execution_count": 35,
   "id": "7cda1bad",
   "metadata": {},
   "outputs": [],
   "source": [
    "import os\n",
    "\n",
    "# Setting an environment variable\n",
    "os.environ['EMAIL_PASSWORD'] = 'wpmw mngb yvjs drim'\n",
    "\n",
    "\n",
    "password = os.getenv('EMAIL_PASSWORD')\n"
   ]
  },
  {
   "cell_type": "code",
   "execution_count": 36,
   "id": "19dbe0ea",
   "metadata": {},
   "outputs": [],
   "source": [
    "import smtplib\n",
    "import os\n",
    "\n",
    "def send_email():\n",
    "    server = smtplib.SMTP_SSL('smtp.gmail.com', 465)\n",
    "    server.ehlo()\n",
    "    # Use the environment variable\n",
    "    password = os.getenv('EMAIL_PASSWORD')\n",
    "    server.login('yh5417@nyu.edu', password)\n",
    "\n",
    "    subject = \"AirPods you want are below $70! Now is your chance to buy!\"\n",
    "    body = (\"This is the moment we have been waiting for. Don't miss out! \"\n",
    "            \"Check the link: https://www.amazon.com/Apple-AirPods-Charging-Latest-Model/dp/B07PXGQC1Q\")\n",
    "    msg = f\"Subject: {subject}\\n\\n{body}\"\n",
    "\n",
    "    server.sendmail(\n",
    "        'yh5417@nyu.edu',\n",
    "        'yh5417@nyu.edu',\n",
    "        msg\n",
    "    )\n",
    "    server.quit()\n"
   ]
  },
  {
   "cell_type": "code",
   "execution_count": null,
   "id": "39187bfd",
   "metadata": {},
   "outputs": [],
   "source": []
  },
  {
   "cell_type": "code",
   "execution_count": null,
   "id": "507624ee",
   "metadata": {},
   "outputs": [],
   "source": []
  },
  {
   "cell_type": "code",
   "execution_count": null,
   "id": "bee5c486",
   "metadata": {},
   "outputs": [],
   "source": []
  },
  {
   "cell_type": "code",
   "execution_count": null,
   "id": "cecde75c",
   "metadata": {},
   "outputs": [],
   "source": []
  }
 ],
 "metadata": {
  "kernelspec": {
   "display_name": "Python 3 (ipykernel)",
   "language": "python",
   "name": "python3"
  },
  "language_info": {
   "codemirror_mode": {
    "name": "ipython",
    "version": 3
   },
   "file_extension": ".py",
   "mimetype": "text/x-python",
   "name": "python",
   "nbconvert_exporter": "python",
   "pygments_lexer": "ipython3",
   "version": "3.11.7"
  }
 },
 "nbformat": 4,
 "nbformat_minor": 5
}
